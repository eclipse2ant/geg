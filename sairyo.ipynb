{
 "cells": [
  {
   "cell_type": "code",
   "execution_count": 1,
   "metadata": {},
   "outputs": [
    {
     "name": "stdout",
     "output_type": "stream",
     "text": [
      "Requirement already satisfied: selenium in c:\\users\\tanak\\anaconda3\\lib\\site-packages (4.4.2)\n",
      "Requirement already satisfied: urllib3[socks]~=1.26 in c:\\users\\tanak\\anaconda3\\lib\\site-packages (from selenium) (1.26.9)\n",
      "Requirement already satisfied: trio-websocket~=0.9 in c:\\users\\tanak\\anaconda3\\lib\\site-packages (from selenium) (0.9.2)\n",
      "Requirement already satisfied: certifi~=2021.10.8 in c:\\users\\tanak\\anaconda3\\lib\\site-packages (from selenium) (2021.10.8)\n",
      "Requirement already satisfied: trio~=0.17 in c:\\users\\tanak\\anaconda3\\lib\\site-packages (from selenium) (0.21.0)\n",
      "Requirement already satisfied: sniffio in c:\\users\\tanak\\anaconda3\\lib\\site-packages (from trio~=0.17->selenium) (1.2.0)\n",
      "Requirement already satisfied: sortedcontainers in c:\\users\\tanak\\anaconda3\\lib\\site-packages (from trio~=0.17->selenium) (2.4.0)\n",
      "Requirement already satisfied: cffi>=1.14 in c:\\users\\tanak\\anaconda3\\lib\\site-packages (from trio~=0.17->selenium) (1.15.0)\n",
      "Requirement already satisfied: attrs>=19.2.0 in c:\\users\\tanak\\anaconda3\\lib\\site-packages (from trio~=0.17->selenium) (21.4.0)\n",
      "Requirement already satisfied: outcome in c:\\users\\tanak\\anaconda3\\lib\\site-packages (from trio~=0.17->selenium) (1.2.0)\n",
      "Requirement already satisfied: async-generator>=1.9 in c:\\users\\tanak\\anaconda3\\lib\\site-packages (from trio~=0.17->selenium) (1.10)\n",
      "Requirement already satisfied: idna in c:\\users\\tanak\\anaconda3\\lib\\site-packages (from trio~=0.17->selenium) (3.3)\n",
      "Requirement already satisfied: pycparser in c:\\users\\tanak\\anaconda3\\lib\\site-packages (from cffi>=1.14->trio~=0.17->selenium) (2.21)\n",
      "Requirement already satisfied: wsproto>=0.14 in c:\\users\\tanak\\anaconda3\\lib\\site-packages (from trio-websocket~=0.9->selenium) (1.1.0)\n",
      "Requirement already satisfied: PySocks!=1.5.7,<2.0,>=1.5.6 in c:\\users\\tanak\\anaconda3\\lib\\site-packages (from urllib3[socks]~=1.26->selenium) (1.7.1)\n",
      "Requirement already satisfied: h11<1,>=0.9.0 in c:\\users\\tanak\\anaconda3\\lib\\site-packages (from wsproto>=0.14->trio-websocket~=0.9->selenium) (0.13.0)\n"
     ]
    }
   ],
   "source": [
    "!pip install selenium\n",
    "from selenium.webdriver.common.by import By"
   ]
  },
  {
   "cell_type": "code",
   "execution_count": 3,
   "metadata": {},
   "outputs": [
    {
     "name": "stdout",
     "output_type": "stream",
     "text": [
      "Requirement already satisfied: beautifulsoup4 in c:\\users\\tanak\\anaconda3\\lib\\site-packages (4.11.1)\n",
      "Requirement already satisfied: soupsieve>1.2 in c:\\users\\tanak\\anaconda3\\lib\\site-packages (from beautifulsoup4) (2.3.1)\n"
     ]
    }
   ],
   "source": [
    "!pip install beautifulsoup4"
   ]
  },
  {
   "cell_type": "code",
   "execution_count": 4,
   "metadata": {},
   "outputs": [],
   "source": [
    "from selenium import webdriver\n",
    "options = webdriver.ChromeOptions()\n",
    "options.add_experimental_option(\"excludeSwitches\", ['enable-automation'])\n",
    "from webdriver_manager.chrome import ChromeDriverManager\n",
    "import time\n",
    "import pandas as pd\n",
    "import os\n",
    "import datetime"
   ]
  },
  {
   "cell_type": "code",
   "execution_count": 4,
   "metadata": {},
   "outputs": [],
   "source": [
    "USER = \"test_user\"\n",
    "PASS = \"test_pw\""
   ]
  },
  {
   "cell_type": "code",
   "execution_count": 6,
   "metadata": {},
   "outputs": [
    {
     "name": "stderr",
     "output_type": "stream",
     "text": [
      "C:\\Users\\tanak\\AppData\\Local\\Temp\\ipykernel_2448\\4245307405.py:3: DeprecationWarning: executable_path has been deprecated, please pass in a Service object\n",
      "  browser = webdriver.Chrome(ChromeDriverManager().install(), options=options)\n"
     ]
    }
   ],
   "source": [
    "# GoogleChromeを起動\n",
    "#browser = webdriver.Chrome() # Mac\n",
    "browser = webdriver.Chrome(ChromeDriverManager().install(), options=options)\n",
    "#browser = driver.get(executable_path = 'chromedriver.exe') # Windows\n",
    "browser.implicitly_wait(3)"
   ]
  },
  {
   "cell_type": "code",
   "execution_count": 7,
   "metadata": {},
   "outputs": [
    {
     "name": "stdout",
     "output_type": "stream",
     "text": [
      "ログインページにアクセスしました\n"
     ]
    }
   ],
   "source": [
    "# ログインページするサイトへアクセス\n",
    "#url_login = \"https://kino-code.work/membership-login/\"\n",
    "url_login = \"https://sairyo.fukuoka-edu.ac.jp/teacher/work-record-input\"\n",
    "browser.get(url_login)\n",
    "time.sleep(3)\n",
    "print(\"ログインページにアクセスしました\")"
   ]
  },
  {
   "cell_type": "code",
   "execution_count": 10,
   "metadata": {},
   "outputs": [
    {
     "name": "stdout",
     "output_type": "stream",
     "text": [
      "フォームを送信\n"
     ]
    }
   ],
   "source": [
    "# テキストボックス入力\n",
    "element = browser.find_element(By.ID,'swpm_user_name')\n",
    "element.clear\n",
    "element.send_keys(USER)\n",
    "element = browser.find_element(By.ID,'swpm_password')\n",
    "element.clear\n",
    "element.send_keys(PASS)\n",
    "print(\"フォームを送信\")"
   ]
  },
  {
   "cell_type": "code",
   "execution_count": 11,
   "metadata": {},
   "outputs": [
    {
     "name": "stdout",
     "output_type": "stream",
     "text": [
      "情報を入力してログインボタンを押しました\n"
     ]
    }
   ],
   "source": [
    "# 入力したデータをクリック\n",
    "browser_from = browser.find_element(By.NAME,'swpm-login')\n",
    "time.sleep(3)\n",
    "browser_from.click()\n",
    "print(\"情報を入力してログインボタンを押しました\")"
   ]
  },
  {
   "cell_type": "code",
   "execution_count": 12,
   "metadata": {},
   "outputs": [
    {
     "name": "stdout",
     "output_type": "stream",
     "text": [
      "https://kino-code.work/member-only/ ：アクセス完了\n"
     ]
    }
   ],
   "source": [
    "# ウェブサイトへアクセス\n",
    "url=\"https://kino-code.work/member-only/\"\n",
    "time.sleep(3)\n",
    "browser.get(url)\n",
    "print(url,\"：アクセス完了\")"
   ]
  },
  {
   "cell_type": "code",
   "execution_count": 14,
   "metadata": {},
   "outputs": [
    {
     "name": "stdout",
     "output_type": "stream",
     "text": [
      "ダウンロードボタンをクリック\n"
     ]
    }
   ],
   "source": [
    "# ダウンロードボタンをクリック\n",
    "frm = browser.find_element(By.XPATH,'/html/body/div/div[3]/div/main/article/div/p[2]/button')\n",
    "time.sleep(1)\n",
    "frm.click()\n",
    "print('ダウンロードボタンをクリック')"
   ]
  },
  {
   "cell_type": "code",
   "execution_count": 1,
   "metadata": {},
   "outputs": [],
   "source": [
    "from bs4 import BeautifulSoup\n",
    "import urllib.request as req"
   ]
  },
  {
   "cell_type": "code",
   "execution_count": 2,
   "metadata": {},
   "outputs": [],
   "source": [
    "html=\"\"\"\n",
    "<html>\n",
    "    <head>\n",
    "        <meta charset=\"utf-8\">\n",
    "        <title>キノコード\n",
    "        </title>\n",
    "    </head>\n",
    "    <body>\n",
    "        <h1>こんにちは</h1>\n",
    "    </body>\n",
    "</html>\n",
    "\"\"\""
   ]
  },
  {
   "cell_type": "code",
   "execution_count": 17,
   "metadata": {},
   "outputs": [
    {
     "data": {
      "text/plain": [
       "'\\n<html>\\n    <head>\\n        <meta charset=\"utf-8\">\\n        <title>キノコード\\n        </title>\\n    </head>\\n    <body>\\n        <h1>こんにちは</h1>\\n    </body>\\n</html>\\n'"
      ]
     },
     "execution_count": 17,
     "metadata": {},
     "output_type": "execute_result"
    }
   ],
   "source": [
    "html"
   ]
  },
  {
   "cell_type": "code",
   "execution_count": 3,
   "metadata": {},
   "outputs": [],
   "source": [
    "parse_html = BeautifulSoup(html,'html.parser')"
   ]
  },
  {
   "cell_type": "code",
   "execution_count": 4,
   "metadata": {},
   "outputs": [
    {
     "name": "stdout",
     "output_type": "stream",
     "text": [
      "\n",
      "<html>\n",
      "<head>\n",
      "<meta charset=\"utf-8\"/>\n",
      "<title>キノコード\n",
      "        </title>\n",
      "</head>\n",
      "<body>\n",
      "<h1>こんにちは</h1>\n",
      "</body>\n",
      "</html>\n",
      "\n"
     ]
    }
   ],
   "source": [
    "print(parse_html)"
   ]
  },
  {
   "cell_type": "code",
   "execution_count": 5,
   "metadata": {},
   "outputs": [
    {
     "name": "stdout",
     "output_type": "stream",
     "text": [
      "<html>\n",
      " <head>\n",
      "  <meta charset=\"utf-8\"/>\n",
      "  <title>\n",
      "   キノコード\n",
      "  </title>\n",
      " </head>\n",
      " <body>\n",
      "  <h1>\n",
      "   こんにちは\n",
      "  </h1>\n",
      " </body>\n",
      "</html>\n",
      "\n"
     ]
    }
   ],
   "source": [
    "print(parse_html.prettify())"
   ]
  },
  {
   "cell_type": "code",
   "execution_count": 7,
   "metadata": {},
   "outputs": [
    {
     "data": {
      "text/plain": [
       "<http.client.HTTPResponse at 0x14420b8c730>"
      ]
     },
     "execution_count": 7,
     "metadata": {},
     "output_type": "execute_result"
    }
   ],
   "source": [
    "url = \"https://kino-code.work/python-scraping/\"\n",
    "response = req.urlopen(url)\n",
    "response"
   ]
  },
  {
   "cell_type": "code",
   "execution_count": 8,
   "metadata": {},
   "outputs": [],
   "source": [
    "parse_html = BeautifulSoup(response,'html.parser')"
   ]
  },
  {
   "cell_type": "code",
   "execution_count": 10,
   "metadata": {},
   "outputs": [],
   "source": [
    "#parse_html"
   ]
  },
  {
   "cell_type": "code",
   "execution_count": 25,
   "metadata": {},
   "outputs": [
    {
     "name": "stdout",
     "output_type": "stream",
     "text": [
      "<title>Python超入門コース(テスト) | KinoCodeWork</title>\n"
     ]
    }
   ],
   "source": [
    "print(parse_html.title)"
   ]
  },
  {
   "cell_type": "code",
   "execution_count": 26,
   "metadata": {},
   "outputs": [
    {
     "name": "stdout",
     "output_type": "stream",
     "text": [
      "Python超入門コース(テスト) | KinoCodeWork\n"
     ]
    }
   ],
   "source": [
    "print(parse_html.title.string)"
   ]
  },
  {
   "cell_type": "code",
   "execution_count": 27,
   "metadata": {},
   "outputs": [
    {
     "name": "stdout",
     "output_type": "stream",
     "text": [
      "[<a class=\"site-name site-name-text-link\" href=\"https://kino-code.work/\" itemprop=\"url\"><span class=\"site-name-text\" itemprop=\"name about\"><img alt=\"KinoCodeWork\" class=\"site-logo-image header-site-logo-image\" height=\"100\" src=\"http://kino-code.work/wp-content/uploads/2019/07/logo-1.png\" width=\"535\"/></span></a>, <a href=\"https://kino-code.work\" itemprop=\"item\"><span class=\"breadcrumb-caption\" itemprop=\"name\">ホーム</span></a>, <a href=\"https://kino-code.work/course-python01-course-introduction/\">Python超入門コース#01 Pythonのコース紹介</a>, <a href=\"https://kino-code.work/course-python02-what-python/\">Python超入門コース#02 Pythonとは？</a>, <a href=\"https://kino-code.work/course-python03-environment/\">Python超入門コース#03 環境構築 for Mac</a>, <a href=\"https://kino-code.work/course-python04-basic-structure/\">Python超入門コース#04 プログラムの基本構造</a>, <a href=\"https://kino-code.work/course-python05-runtime/\">Python超入門コース#05 実行</a>, <a href=\"https://kino-code.work/course-python06-variable/\">Python超入門コース#06 変数</a>, <a href=\"https://kino-code.work/course-python07-data-type/\">Python超入門コース#07 データ型</a>, <a href=\"https://kino-code.work/coruse-python08-list/\">Python超入門コース#08 リスト</a>, <a href=\"https://kino-code.work/course-python09-operator/\">Python超入門コース#09 演算子</a>, <a href=\"https://kino-code.work/course-python10-conditional-branch/\">Python超入門コース#10 条件分岐</a>, <a href=\"https://kino-code.work/course-python11-repetition/\">Python超入門コース#11 反復</a>, <a href=\"https://kino-code.work/course-python12-function/\">Python超入門コース#12 関数</a>, <a href=\"https://kino-code.work/course-python13-class/\">Python超入門コース#13 クラス</a>, <a href=\"https://kino-code.work/course-python14-practice/\">Python超入門コース#14 実践</a>, <a class=\"author-link\" href=\"https://kino-code.work/author/kino_tsurayasu/\"><span class=\"post-author vcard author\" itemprop=\"editor author creator copyrightHolder\" itemscope=\"\" itemtype=\"https://schema.org/Person\"><span class=\"author-name fn\" itemprop=\"name\">キノコード</span></span></a>, <a href=\"https://kino-code.work/course-php02-what-php/\">PHP超入門コース#02 PHPとは？</a>, <a href=\"https://kino-code.work/course-php01-course-introduction-2/\">PHP超入門コース＃01コース紹介</a>, <a href=\"https://kino-code.work/course-go02-what-go-2/\">Go超入門コース#02 Goとは？</a>, <a href=\"https://kino-code.work/course-go01-what-go/\">Go超入門コース#01 Goのコース紹介</a>, <a href=\"https://kino-code.work/course-go15-practice/\">【Go言語 超入門コース】15.実践｜すべて理解できればGoの超入門者から卒業です【プログラミング初心者向け入門講座】</a>, <a href=\"https://kino-code.work/2021/10/\">2021年10月<span class=\"post-count\">4</span></a>, <a href=\"https://kino-code.work/2020/05/\">2020年5月<span class=\"post-count\">3</span></a>, <a href=\"https://kino-code.work/2020/04/\">2020年4月<span class=\"post-count\">3</span></a>, <a href=\"https://kino-code.work/2020/03/\">2020年3月<span class=\"post-count\">2</span></a>, <a href=\"https://kino-code.work/2020/02/\">2020年2月<span class=\"post-count\">4</span></a>, <a href=\"https://kino-code.work/2020/01/\">2020年1月<span class=\"post-count\">24</span></a>, <a class=\"site-name site-name-text-link\" href=\"https://kino-code.work/\" itemprop=\"url\"><span class=\"site-name-text\" itemprop=\"name about\"><img alt=\"KinoCodeWork\" class=\"site-logo-image footer-site-logo-image\" src=\"http://kino-code.work/wp-content/uploads/2019/07/logo-1.png\"/></span></a>]\n"
     ]
    }
   ],
   "source": [
    "print(parse_html.find_all('a'))"
   ]
  },
  {
   "cell_type": "code",
   "execution_count": 29,
   "metadata": {},
   "outputs": [],
   "source": [
    "title_lists=parse_html.find_all('a')"
   ]
  },
  {
   "cell_type": "code",
   "execution_count": 30,
   "metadata": {},
   "outputs": [
    {
     "data": {
      "text/plain": [
       "[<a href=\"https://kino-code.work\" itemprop=\"item\"><span class=\"breadcrumb-caption\" itemprop=\"name\">ホーム</span></a>,\n",
       " <a href=\"https://kino-code.work/course-python01-course-introduction/\">Python超入門コース#01 Pythonのコース紹介</a>,\n",
       " <a href=\"https://kino-code.work/course-python02-what-python/\">Python超入門コース#02 Pythonとは？</a>,\n",
       " <a href=\"https://kino-code.work/course-python03-environment/\">Python超入門コース#03 環境構築 for Mac</a>,\n",
       " <a href=\"https://kino-code.work/course-python04-basic-structure/\">Python超入門コース#04 プログラムの基本構造</a>,\n",
       " <a href=\"https://kino-code.work/course-python05-runtime/\">Python超入門コース#05 実行</a>,\n",
       " <a href=\"https://kino-code.work/course-python06-variable/\">Python超入門コース#06 変数</a>,\n",
       " <a href=\"https://kino-code.work/course-python07-data-type/\">Python超入門コース#07 データ型</a>,\n",
       " <a href=\"https://kino-code.work/coruse-python08-list/\">Python超入門コース#08 リスト</a>]"
      ]
     },
     "execution_count": 30,
     "metadata": {},
     "output_type": "execute_result"
    }
   ],
   "source": [
    "title_lists[1:10]"
   ]
  },
  {
   "cell_type": "code",
   "execution_count": 31,
   "metadata": {},
   "outputs": [
    {
     "data": {
      "text/plain": [
       "[<a class=\"site-name site-name-text-link\" href=\"https://kino-code.work/\" itemprop=\"url\"><span class=\"site-name-text\" itemprop=\"name about\"><img alt=\"KinoCodeWork\" class=\"site-logo-image header-site-logo-image\" height=\"100\" src=\"http://kino-code.work/wp-content/uploads/2019/07/logo-1.png\" width=\"535\"/></span></a>,\n",
       " <a href=\"https://kino-code.work\" itemprop=\"item\"><span class=\"breadcrumb-caption\" itemprop=\"name\">ホーム</span></a>,\n",
       " <a href=\"https://kino-code.work/course-python01-course-introduction/\">Python超入門コース#01 Pythonのコース紹介</a>,\n",
       " <a href=\"https://kino-code.work/course-python02-what-python/\">Python超入門コース#02 Pythonとは？</a>,\n",
       " <a href=\"https://kino-code.work/course-python03-environment/\">Python超入門コース#03 環境構築 for Mac</a>,\n",
       " <a href=\"https://kino-code.work/course-python04-basic-structure/\">Python超入門コース#04 プログラムの基本構造</a>,\n",
       " <a href=\"https://kino-code.work/course-python05-runtime/\">Python超入門コース#05 実行</a>,\n",
       " <a href=\"https://kino-code.work/course-python06-variable/\">Python超入門コース#06 変数</a>,\n",
       " <a href=\"https://kino-code.work/course-python07-data-type/\">Python超入門コース#07 データ型</a>,\n",
       " <a href=\"https://kino-code.work/coruse-python08-list/\">Python超入門コース#08 リスト</a>,\n",
       " <a href=\"https://kino-code.work/course-python09-operator/\">Python超入門コース#09 演算子</a>,\n",
       " <a href=\"https://kino-code.work/course-python10-conditional-branch/\">Python超入門コース#10 条件分岐</a>,\n",
       " <a href=\"https://kino-code.work/course-python11-repetition/\">Python超入門コース#11 反復</a>,\n",
       " <a href=\"https://kino-code.work/course-python12-function/\">Python超入門コース#12 関数</a>,\n",
       " <a href=\"https://kino-code.work/course-python13-class/\">Python超入門コース#13 クラス</a>,\n",
       " <a href=\"https://kino-code.work/course-python14-practice/\">Python超入門コース#14 実践</a>,\n",
       " <a class=\"author-link\" href=\"https://kino-code.work/author/kino_tsurayasu/\"><span class=\"post-author vcard author\" itemprop=\"editor author creator copyrightHolder\" itemscope=\"\" itemtype=\"https://schema.org/Person\"><span class=\"author-name fn\" itemprop=\"name\">キノコード</span></span></a>,\n",
       " <a href=\"https://kino-code.work/course-php02-what-php/\">PHP超入門コース#02 PHPとは？</a>,\n",
       " <a href=\"https://kino-code.work/course-php01-course-introduction-2/\">PHP超入門コース＃01コース紹介</a>,\n",
       " <a href=\"https://kino-code.work/course-go02-what-go-2/\">Go超入門コース#02 Goとは？</a>,\n",
       " <a href=\"https://kino-code.work/course-go01-what-go/\">Go超入門コース#01 Goのコース紹介</a>,\n",
       " <a href=\"https://kino-code.work/course-go15-practice/\">【Go言語 超入門コース】15.実践｜すべて理解できればGoの超入門者から卒業です【プログラミング初心者向け入門講座】</a>,\n",
       " <a href=\"https://kino-code.work/2021/10/\">2021年10月<span class=\"post-count\">4</span></a>,\n",
       " <a href=\"https://kino-code.work/2020/05/\">2020年5月<span class=\"post-count\">3</span></a>,\n",
       " <a href=\"https://kino-code.work/2020/04/\">2020年4月<span class=\"post-count\">3</span></a>,\n",
       " <a href=\"https://kino-code.work/2020/03/\">2020年3月<span class=\"post-count\">2</span></a>,\n",
       " <a href=\"https://kino-code.work/2020/02/\">2020年2月<span class=\"post-count\">4</span></a>,\n",
       " <a href=\"https://kino-code.work/2020/01/\">2020年1月<span class=\"post-count\">24</span></a>,\n",
       " <a class=\"site-name site-name-text-link\" href=\"https://kino-code.work/\" itemprop=\"url\"><span class=\"site-name-text\" itemprop=\"name about\"><img alt=\"KinoCodeWork\" class=\"site-logo-image footer-site-logo-image\" src=\"http://kino-code.work/wp-content/uploads/2019/07/logo-1.png\"/></span></a>]"
      ]
     },
     "execution_count": 31,
     "metadata": {},
     "output_type": "execute_result"
    }
   ],
   "source": [
    "title_lists"
   ]
  },
  {
   "cell_type": "code",
   "execution_count": 32,
   "metadata": {},
   "outputs": [
    {
     "data": {
      "text/plain": [
       "'Python超入門コース#09 演算子'"
      ]
     },
     "execution_count": 32,
     "metadata": {},
     "output_type": "execute_result"
    }
   ],
   "source": [
    "title_lists[10].string"
   ]
  },
  {
   "cell_type": "code",
   "execution_count": 33,
   "metadata": {},
   "outputs": [
    {
     "data": {
      "text/plain": [
       "'https://kino-code.work/course-python09-operator/'"
      ]
     },
     "execution_count": 33,
     "metadata": {},
     "output_type": "execute_result"
    }
   ],
   "source": [
    "title_lists[10].attrs['href']"
   ]
  },
  {
   "cell_type": "code",
   "execution_count": null,
   "metadata": {},
   "outputs": [],
   "source": [
    "title_list=[]\n",
    "url_list=[]\n",
    "\n",
    "for i in title_lists:\n",
    "#    i.attrs['href']\n",
    "    print(i.attrs['href'])\n",
    "#     title_list.append(i.string)\n",
    "#    url_list.append(i.attrs['href'])"
   ]
  },
  {
   "cell_type": "code",
   "execution_count": null,
   "metadata": {},
   "outputs": [],
   "source": [
    "title_list"
   ]
  },
  {
   "cell_type": "code",
   "execution_count": null,
   "metadata": {},
   "outputs": [],
   "source": [
    "url_list"
   ]
  },
  {
   "cell_type": "code",
   "execution_count": null,
   "metadata": {},
   "outputs": [],
   "source": [
    "df_title_url = pd.DataFrame({'Title':title_list, 'URL':url_list})"
   ]
  },
  {
   "cell_type": "code",
   "execution_count": null,
   "metadata": {},
   "outputs": [],
   "source": [
    "df_title_url"
   ]
  },
  {
   "cell_type": "code",
   "execution_count": null,
   "metadata": {},
   "outputs": [],
   "source": [
    "df_notnull = df_title_url.dropna(how='any')"
   ]
  },
  {
   "cell_type": "code",
   "execution_count": null,
   "metadata": {},
   "outputs": [],
   "source": [
    "df_notnull"
   ]
  },
  {
   "cell_type": "code",
   "execution_count": null,
   "metadata": {},
   "outputs": [],
   "source": [
    "df_notnull['Title'].str.contains('Python超入門コース')"
   ]
  },
  {
   "cell_type": "code",
   "execution_count": null,
   "metadata": {},
   "outputs": [],
   "source": [
    "df_notnull[df_notnull['Title'].str.contains('Python超入門コース')]"
   ]
  },
  {
   "cell_type": "code",
   "execution_count": null,
   "metadata": {},
   "outputs": [],
   "source": [
    "df_contain_python = df_notnull[df_notnull['Title'].str.contains('Python超入門コース')]"
   ]
  },
  {
   "cell_type": "code",
   "execution_count": null,
   "metadata": {},
   "outputs": [],
   "source": [
    "df_contain_python"
   ]
  },
  {
   "cell_type": "code",
   "execution_count": null,
   "metadata": {},
   "outputs": [],
   "source": [
    "df_contain_python.to_csv('output.csv')"
   ]
  },
  {
   "cell_type": "code",
   "execution_count": null,
   "metadata": {},
   "outputs": [],
   "source": []
  }
 ],
 "metadata": {
  "kernelspec": {
   "display_name": "Python 3 (ipykernel)",
   "language": "python",
   "name": "python3"
  },
  "language_info": {
   "codemirror_mode": {
    "name": "ipython",
    "version": 3
   },
   "file_extension": ".py",
   "mimetype": "text/x-python",
   "name": "python",
   "nbconvert_exporter": "python",
   "pygments_lexer": "ipython3",
   "version": "3.9.12"
  }
 },
 "nbformat": 4,
 "nbformat_minor": 4
}
